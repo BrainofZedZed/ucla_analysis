{
 "cells": [
  {
   "cell_type": "code",
   "execution_count": 1,
   "id": "e91f59c1",
   "metadata": {},
   "outputs": [],
   "source": [
    "import matlab.engine\n",
    "eng = matlab.engine.start_matlab() # start MATLAB process"
   ]
  },
  {
   "cell_type": "code",
   "execution_count": 5,
   "id": "ad3340c3",
   "metadata": {},
   "outputs": [
    {
     "ename": "AttributeError",
     "evalue": "'matlab.object' object has no attribute 'keys'",
     "output_type": "error",
     "traceback": [
      "\u001b[1;31m---------------------------------------------------------------------------\u001b[0m",
      "\u001b[1;31mAttributeError\u001b[0m                            Traceback (most recent call last)",
      "Cell \u001b[1;32mIn[5], line 2\u001b[0m\n\u001b[0;32m      1\u001b[0m mf \u001b[38;5;241m=\u001b[39m eng\u001b[38;5;241m.\u001b[39mmatfile(\u001b[38;5;124mr\u001b[39m\u001b[38;5;124m\"\u001b[39m\u001b[38;5;124mC:\u001b[39m\u001b[38;5;124m\\\u001b[39m\u001b[38;5;124mUsers\u001b[39m\u001b[38;5;124m\\\u001b[39m\u001b[38;5;124mZach\u001b[39m\u001b[38;5;124m\\\u001b[39m\u001b[38;5;124mBox\u001b[39m\u001b[38;5;124m\\\u001b[39m\u001b[38;5;124mZach_repo\u001b[39m\u001b[38;5;124m\\\u001b[39m\u001b[38;5;124mProjects\u001b[39m\u001b[38;5;124m\\\u001b[39m\u001b[38;5;124mDA PMA\u001b[39m\u001b[38;5;124m\\\u001b[39m\u001b[38;5;124mfiber photometry\u001b[39m\u001b[38;5;124m\\\u001b[39m\u001b[38;5;124mGRABDA PMA REWARD\u001b[39m\u001b[38;5;124m\\\u001b[39m\u001b[38;5;124mbatch\u001b[39m\u001b[38;5;124m\\\u001b[39m\u001b[38;5;124mD0\u001b[39m\u001b[38;5;124m\\\u001b[39m\u001b[38;5;124mDP063_D0\u001b[39m\u001b[38;5;124m\\\u001b[39m\u001b[38;5;124mDP063_D0_analyzed\u001b[39m\u001b[38;5;124m\\\u001b[39m\u001b[38;5;124mBehavior.mat\u001b[39m\u001b[38;5;124m\"\u001b[39m) \u001b[38;5;66;03m# load MATLAB file with nested structures\u001b[39;00m\n\u001b[1;32m----> 2\u001b[0m \u001b[38;5;28mprint\u001b[39m(\u001b[43mmf\u001b[49m\u001b[38;5;241;43m.\u001b[39;49m\u001b[43mkeys\u001b[49m())\n",
      "\u001b[1;31mAttributeError\u001b[0m: 'matlab.object' object has no attribute 'keys'"
     ]
    }
   ],
   "source": [
    "mf = eng.matfile(r\"C:\\Users\\Zach\\Box\\Zach_repo\\Projects\\DA PMA\\fiber photometry\\GRABDA PMA REWARD\\batch\\D0\\DP063_D0\\DP063_D0_analyzed\\Behavior.mat\") # load MATLAB file with nested structures\n",
    "print(mf.keys())"
   ]
  },
  {
   "cell_type": "code",
   "execution_count": 7,
   "id": "8226ceb3",
   "metadata": {},
   "outputs": [],
   "source": [
    "mf?"
   ]
  },
  {
   "cell_type": "code",
   "execution_count": null,
   "id": "9796a8a0",
   "metadata": {},
   "outputs": [],
   "source": []
  }
 ],
 "metadata": {
  "kernelspec": {
   "display_name": "Python 3 (ipykernel)",
   "language": "python",
   "name": "python3"
  },
  "language_info": {
   "codemirror_mode": {
    "name": "ipython",
    "version": 3
   },
   "file_extension": ".py",
   "mimetype": "text/x-python",
   "name": "python",
   "nbconvert_exporter": "python",
   "pygments_lexer": "ipython3",
   "version": "3.9.12"
  },
  "varInspector": {
   "cols": {
    "lenName": 16,
    "lenType": 16,
    "lenVar": 40
   },
   "kernels_config": {
    "python": {
     "delete_cmd_postfix": "",
     "delete_cmd_prefix": "del ",
     "library": "var_list.py",
     "varRefreshCmd": "print(var_dic_list())"
    },
    "r": {
     "delete_cmd_postfix": ") ",
     "delete_cmd_prefix": "rm(",
     "library": "var_list.r",
     "varRefreshCmd": "cat(var_dic_list()) "
    }
   },
   "types_to_exclude": [
    "module",
    "function",
    "builtin_function_or_method",
    "instance",
    "_Feature"
   ],
   "window_display": false
  }
 },
 "nbformat": 4,
 "nbformat_minor": 5
}
