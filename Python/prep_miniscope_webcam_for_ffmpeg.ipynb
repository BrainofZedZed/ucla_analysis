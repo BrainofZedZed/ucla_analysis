{
 "cells": [
  {
   "cell_type": "code",
   "execution_count": 1,
   "metadata": {},
   "outputs": [],
   "source": [
    "# -*- coding: utf-8 -*-\n",
    "\"\"\"\n",
    "Created on Fri Feb 18 08:52:45 2022\n",
    "\n",
    "@author: Zach\n",
    "\n",
    "GOAL:  creates cmd commands to use ffmpeg to concat all miniscope behavior \n",
    "videos, compress them, and then delete the original (large) concatenation.\n",
    "Assumes default directory structure of miniscope recorded videos.\n",
    "\n",
    "USE: edit path to be grandparent directory folder of with all the 'My_WebCam'\n",
    "folders someone down that path. 'final_out' is char vector with commands.\n",
    "\"\"\"\n"
   ]
  },
  {
   "cell_type": "code",
   "execution_count": null,
   "metadata": {},
   "outputs": [],
   "source": [
    "#%%  imports\n",
    "import glob  # used to search for files\n",
    "import ntpath # alternative to os.path that is OS agnostic\n",
    "import natsort # for function natsorted"
   ]
  },
  {
   "cell_type": "code",
   "execution_count": null,
   "metadata": {},
   "outputs": [],
   "source": [
    "# define path\n",
    "path = r\"G:\\2023_02_09\" # define path"
   ]
  },
  {
   "cell_type": "code",
   "execution_count": 2,
   "metadata": {},
   "outputs": [],
   "source": [
    "#%%  create output\n",
    "path_wc = path + \"\\**\\My_WebCam\" # add search area:  ** indicates any number of subdir\n",
    "cam_dirs = glob.glob(path_wc, recursive = True) # get all subdirectories with My_WebCam\n",
    "\n",
    "# for each cam_dir, get list of all avi files\n",
    "out_full = ''  # initialize final output \n",
    "final_out = ''\n",
    "for j in range(len(cam_dirs)):  # loop through each dir\n",
    "    i_dir = cam_dirs[j]\n",
    "    avi_files = glob.glob(i_dir + \"/*.avi\")  # go through dir and get paths of all avi files\n",
    "    \n",
    "    filenames = [None] * len(avi_files)  # create an empty list of size avi_files\n",
    "    for i in range(len(avi_files)):  # loop through the size of avi_files\n",
    "        if len(ntpath.basename(avi_files[i])) > 6:\n",
    "            continue\n",
    "        filenames[i] = ntpath.basename(avi_files[i])  # assign filename to new list\n",
    "        \n",
    "    filenames_sorted = natsort.natsorted(filenames) # natural language sort\n",
    "    out_cat = ''  # initialize out string\n",
    "    \n",
    "    for x in filenames_sorted:\n",
    "        out_cat = out_cat + x + '|'  # create string with bar between all names\n",
    "    \n",
    "    out_cat = out_cat[:-1] # remove last bar\n",
    "    out_cat = 'ffmpeg -i \"concat:' + out_cat + '\"' + ' -c copy temp.avi \\nffmpeg -i temp.avi -c:v libx264 -preset slow -crf 17 -c:a copy concat_beh.avi \\n'  # put into ffmpeg command\n",
    "    cd_line = 'cd ' + \"\\\"\" + i_dir + \"\\\"\" + '\\n'\n",
    "    del_line = 'del /f temp.avi\\n\\n'\n",
    "    out_full = cd_line + out_cat + del_line\n",
    "    final_out = final_out+out_full\n",
    "\n"
   ]
  },
  {
   "cell_type": "code",
   "execution_count": 6,
   "metadata": {},
   "outputs": [],
   "source": [
    "    #%% save\n",
    "with open(path+'\\\\to_concat.cmd', 'w') as f:\n",
    "    f.write(final_out)"
   ]
  }
 ],
 "metadata": {
  "kernelspec": {
   "display_name": "Python 3",
   "language": "python",
   "name": "python3"
  },
  "language_info": {
   "codemirror_mode": {
    "name": "ipython",
    "version": 3
   },
   "file_extension": ".py",
   "mimetype": "text/x-python",
   "name": "python",
   "nbconvert_exporter": "python",
   "pygments_lexer": "ipython3",
   "version": "3.7.4"
  }
 },
 "nbformat": 4,
 "nbformat_minor": 2
}
