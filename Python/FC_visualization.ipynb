{
 "cells": [
  {
   "cell_type": "markdown",
   "id": "turned-reverse",
   "metadata": {},
   "source": [
    "# import modules"
   ]
  },
  {
   "cell_type": "code",
   "execution_count": 1,
   "id": "unusual-theory",
   "metadata": {},
   "outputs": [],
   "source": [
    "import pandas as pd\n",
    "import scipy as sp\n",
    "import matplotlib.pyplot as plt\n",
    "import seaborn as sns\n",
    "import numpy as np"
   ]
  },
  {
   "cell_type": "markdown",
   "id": "other-while",
   "metadata": {},
   "source": [
    "# load data"
   ]
  },
  {
   "cell_type": "code",
   "execution_count": 8,
   "id": "understood-character",
   "metadata": {
    "scrolled": true
   },
   "outputs": [
    {
     "data": {
      "text/html": [
       "<div>\n",
       "<style scoped>\n",
       "    .dataframe tbody tr th:only-of-type {\n",
       "        vertical-align: middle;\n",
       "    }\n",
       "\n",
       "    .dataframe tbody tr th {\n",
       "        vertical-align: top;\n",
       "    }\n",
       "\n",
       "    .dataframe thead th {\n",
       "        text-align: right;\n",
       "    }\n",
       "</style>\n",
       "<table border=\"1\" class=\"dataframe\">\n",
       "  <thead>\n",
       "    <tr style=\"text-align: right;\">\n",
       "      <th></th>\n",
       "      <th>ID</th>\n",
       "      <th>event</th>\n",
       "      <th>freeze percent</th>\n",
       "    </tr>\n",
       "  </thead>\n",
       "  <tbody>\n",
       "    <tr>\n",
       "      <th>0</th>\n",
       "      <td>ZZ094_FC_D0</td>\n",
       "      <td>csp_shock</td>\n",
       "      <td>0.000000</td>\n",
       "    </tr>\n",
       "    <tr>\n",
       "      <th>1</th>\n",
       "      <td>ZZ094_FC_D0</td>\n",
       "      <td>csp_shock</td>\n",
       "      <td>0.000000</td>\n",
       "    </tr>\n",
       "    <tr>\n",
       "      <th>2</th>\n",
       "      <td>ZZ094_FC_D0</td>\n",
       "      <td>csp_shock</td>\n",
       "      <td>0.107356</td>\n",
       "    </tr>\n",
       "    <tr>\n",
       "      <th>3</th>\n",
       "      <td>ZZ094_FC_D0</td>\n",
       "      <td>csp_shock</td>\n",
       "      <td>0.262425</td>\n",
       "    </tr>\n",
       "    <tr>\n",
       "      <th>4</th>\n",
       "      <td>ZZ094_FC_D0</td>\n",
       "      <td>csp_shock</td>\n",
       "      <td>0.194831</td>\n",
       "    </tr>\n",
       "    <tr>\n",
       "      <th>...</th>\n",
       "      <td>...</td>\n",
       "      <td>...</td>\n",
       "      <td>...</td>\n",
       "    </tr>\n",
       "    <tr>\n",
       "      <th>283</th>\n",
       "      <td>ZZ105_D1</td>\n",
       "      <td>csm_laser</td>\n",
       "      <td>0.585885</td>\n",
       "    </tr>\n",
       "    <tr>\n",
       "      <th>284</th>\n",
       "      <td>ZZ105_hab</td>\n",
       "      <td>csp</td>\n",
       "      <td>0.000000</td>\n",
       "    </tr>\n",
       "    <tr>\n",
       "      <th>285</th>\n",
       "      <td>ZZ105_hab</td>\n",
       "      <td>csp</td>\n",
       "      <td>0.077689</td>\n",
       "    </tr>\n",
       "    <tr>\n",
       "      <th>286</th>\n",
       "      <td>ZZ105_hab</td>\n",
       "      <td>csm</td>\n",
       "      <td>0.000000</td>\n",
       "    </tr>\n",
       "    <tr>\n",
       "      <th>287</th>\n",
       "      <td>ZZ105_hab</td>\n",
       "      <td>csm</td>\n",
       "      <td>0.000000</td>\n",
       "    </tr>\n",
       "  </tbody>\n",
       "</table>\n",
       "<p>288 rows × 3 columns</p>\n",
       "</div>"
      ],
      "text/plain": [
       "              ID      event  freeze percent\n",
       "0    ZZ094_FC_D0  csp_shock        0.000000\n",
       "1    ZZ094_FC_D0  csp_shock        0.000000\n",
       "2    ZZ094_FC_D0  csp_shock        0.107356\n",
       "3    ZZ094_FC_D0  csp_shock        0.262425\n",
       "4    ZZ094_FC_D0  csp_shock        0.194831\n",
       "..           ...        ...             ...\n",
       "283     ZZ105_D1  csm_laser        0.585885\n",
       "284    ZZ105_hab        csp        0.000000\n",
       "285    ZZ105_hab        csp        0.077689\n",
       "286    ZZ105_hab        csm        0.000000\n",
       "287    ZZ105_hab        csm        0.000000\n",
       "\n",
       "[288 rows x 3 columns]"
      ]
     },
     "execution_count": 8,
     "metadata": {},
     "output_type": "execute_result"
    }
   ],
   "source": [
    "#df_all = pd.read_csv(r'C:/Users/Zach/Documents/Python Scripts/Work/datasets/TeA inhibition pilot/interleaved/summary_freezing.csv', header=None)\n",
    "df = pd.read_csv(r\"D:\\fc pl tea cohort2 recent\\batch\\summary_freezing.csv\")\n",
    "df"
   ]
  },
  {
   "cell_type": "markdown",
   "id": "educated-feelings",
   "metadata": {},
   "source": [
    "# clean data\n",
    "remove rows with all NaNs"
   ]
  },
  {
   "cell_type": "code",
   "execution_count": 34,
   "id": "stainless-inflation",
   "metadata": {},
   "outputs": [],
   "source": [
    "df = df.dropna(axis=0, how='all')\n",
    "df = df.reset_index()"
   ]
  },
  {
   "cell_type": "markdown",
   "id": "innovative-incidence",
   "metadata": {},
   "source": [
    "# group data\n",
    "first want to reorganize by ID, day, and event, with values for each event"
   ]
  },
  {
   "cell_type": "code",
   "execution_count": 42,
   "id": "funded-medicaid",
   "metadata": {},
   "outputs": [],
   "source": [
    "# get list of list names in ID list\n",
    "unique_id = pd.unique(df['ID'])\n",
    "unique_event = pd.unique(df['event'])\n",
    "\n",
    "df2 = pd.DataFrame(columns = ['ID', 'event', 'e1', 'e2', 'e3', 'e4', 'e5', 'e6', 'e7', 'e8', 'e9', 'e10'])\n",
    "\n",
    "# go through data and get all values for all unique combos of ID and event\n",
    "for i in unique_id:\n",
    "    for e in unique_event:\n",
    "        hit = df['ID'].str.contains(i) & df['event'].str.contains(e)\n",
    "        hit = hit[hit].index\n",
    "        df2\n",
    "\n",
    "# go through list and get index of each day\n",
    "hab_mask = df['ID'].str.contains('hab', case=False, na=False)\n",
    "d0_mask = df['ID'].str.contains('D0', case=False, na=False)\n",
    "d1_mask = df['ID'].str.contains('D1', case=False, na=False)\n",
    "\n",
    "# use boolean indexing to get values from mask\n",
    "hab_idx = hab_mask[hab_mask].index\n",
    "d0_idx = d0_mask[d0_mask].index\n",
    "d1_idx = d1_mask[d1_mask].index\n",
    "\n"
   ]
  },
  {
   "cell_type": "code",
   "execution_count": 40,
   "id": "elect-vegetation",
   "metadata": {},
   "outputs": [
    {
     "data": {
      "text/plain": [
       "Int64Index([0, 1, 2, 3, 4, 5, 6, 7], dtype='int64')"
      ]
     },
     "execution_count": 40,
     "metadata": {},
     "output_type": "execute_result"
    }
   ],
   "source": [
    "i = unique_id[0]\n",
    "e = unique_event[0]\n",
    "i, e\n",
    "hit = df['ID'].str.contains(i) & df['event'].str.contains(e)\n",
    "hit = hit[hit].index\n",
    "hit"
   ]
  },
  {
   "cell_type": "code",
   "execution_count": 32,
   "id": "talented-newman",
   "metadata": {},
   "outputs": [
    {
     "data": {
      "text/plain": [
       "Int64Index([ 16,  17,  18,  19,  20,  21,  22,  23,  24,  25,\n",
       "            ...\n",
       "            274, 275, 276, 277, 278, 279, 280, 281, 282, 283],\n",
       "           dtype='int64', length=108)"
      ]
     },
     "execution_count": 32,
     "metadata": {},
     "output_type": "execute_result"
    }
   ],
   "source": [
    "d1_idx"
   ]
  },
  {
   "cell_type": "code",
   "execution_count": 15,
   "id": "regular-spray",
   "metadata": {},
   "outputs": [
    {
     "ename": "ValueError",
     "evalue": "Index contains duplicate entries, cannot reshape",
     "output_type": "error",
     "traceback": [
      "\u001b[1;31m---------------------------------------------------------------------------\u001b[0m",
      "\u001b[1;31mValueError\u001b[0m                                Traceback (most recent call last)",
      "\u001b[1;32m<ipython-input-15-2ba649f5bd7b>\u001b[0m in \u001b[0;36m<module>\u001b[1;34m\u001b[0m\n\u001b[1;32m----> 1\u001b[1;33m \u001b[0mdf2\u001b[0m \u001b[1;33m=\u001b[0m \u001b[0mdf\u001b[0m\u001b[1;33m.\u001b[0m\u001b[0mpivot\u001b[0m\u001b[1;33m(\u001b[0m\u001b[0mindex\u001b[0m\u001b[1;33m=\u001b[0m\u001b[1;34m'ID'\u001b[0m\u001b[1;33m,\u001b[0m\u001b[0mcolumns\u001b[0m\u001b[1;33m=\u001b[0m\u001b[1;34m'event'\u001b[0m\u001b[1;33m,\u001b[0m\u001b[0mvalues\u001b[0m\u001b[1;33m=\u001b[0m\u001b[1;34m'freeze percent'\u001b[0m\u001b[1;33m)\u001b[0m\u001b[1;33m\u001b[0m\u001b[1;33m\u001b[0m\u001b[0m\n\u001b[0m",
      "\u001b[1;32m~\\anaconda3\\lib\\site-packages\\pandas\\core\\frame.py\u001b[0m in \u001b[0;36mpivot\u001b[1;34m(self, index, columns, values)\u001b[0m\n\u001b[0;32m   6877\u001b[0m         \u001b[1;32mfrom\u001b[0m \u001b[0mpandas\u001b[0m\u001b[1;33m.\u001b[0m\u001b[0mcore\u001b[0m\u001b[1;33m.\u001b[0m\u001b[0mreshape\u001b[0m\u001b[1;33m.\u001b[0m\u001b[0mpivot\u001b[0m \u001b[1;32mimport\u001b[0m \u001b[0mpivot\u001b[0m\u001b[1;33m\u001b[0m\u001b[1;33m\u001b[0m\u001b[0m\n\u001b[0;32m   6878\u001b[0m \u001b[1;33m\u001b[0m\u001b[0m\n\u001b[1;32m-> 6879\u001b[1;33m         \u001b[1;32mreturn\u001b[0m \u001b[0mpivot\u001b[0m\u001b[1;33m(\u001b[0m\u001b[0mself\u001b[0m\u001b[1;33m,\u001b[0m \u001b[0mindex\u001b[0m\u001b[1;33m=\u001b[0m\u001b[0mindex\u001b[0m\u001b[1;33m,\u001b[0m \u001b[0mcolumns\u001b[0m\u001b[1;33m=\u001b[0m\u001b[0mcolumns\u001b[0m\u001b[1;33m,\u001b[0m \u001b[0mvalues\u001b[0m\u001b[1;33m=\u001b[0m\u001b[0mvalues\u001b[0m\u001b[1;33m)\u001b[0m\u001b[1;33m\u001b[0m\u001b[1;33m\u001b[0m\u001b[0m\n\u001b[0m\u001b[0;32m   6880\u001b[0m \u001b[1;33m\u001b[0m\u001b[0m\n\u001b[0;32m   6881\u001b[0m     _shared_docs[\n",
      "\u001b[1;32m~\\anaconda3\\lib\\site-packages\\pandas\\core\\reshape\\pivot.py\u001b[0m in \u001b[0;36mpivot\u001b[1;34m(data, index, columns, values)\u001b[0m\n\u001b[0;32m    459\u001b[0m         \u001b[1;32melse\u001b[0m\u001b[1;33m:\u001b[0m\u001b[1;33m\u001b[0m\u001b[1;33m\u001b[0m\u001b[0m\n\u001b[0;32m    460\u001b[0m             \u001b[0mindexed\u001b[0m \u001b[1;33m=\u001b[0m \u001b[0mdata\u001b[0m\u001b[1;33m.\u001b[0m\u001b[0m_constructor_sliced\u001b[0m\u001b[1;33m(\u001b[0m\u001b[0mdata\u001b[0m\u001b[1;33m[\u001b[0m\u001b[0mvalues\u001b[0m\u001b[1;33m]\u001b[0m\u001b[1;33m.\u001b[0m\u001b[0m_values\u001b[0m\u001b[1;33m,\u001b[0m \u001b[0mindex\u001b[0m\u001b[1;33m=\u001b[0m\u001b[0mindex\u001b[0m\u001b[1;33m)\u001b[0m\u001b[1;33m\u001b[0m\u001b[1;33m\u001b[0m\u001b[0m\n\u001b[1;32m--> 461\u001b[1;33m     \u001b[1;32mreturn\u001b[0m \u001b[0mindexed\u001b[0m\u001b[1;33m.\u001b[0m\u001b[0munstack\u001b[0m\u001b[1;33m(\u001b[0m\u001b[0mcolumns\u001b[0m\u001b[1;33m)\u001b[0m\u001b[1;33m\u001b[0m\u001b[1;33m\u001b[0m\u001b[0m\n\u001b[0m\u001b[0;32m    462\u001b[0m \u001b[1;33m\u001b[0m\u001b[0m\n\u001b[0;32m    463\u001b[0m \u001b[1;33m\u001b[0m\u001b[0m\n",
      "\u001b[1;32m~\\anaconda3\\lib\\site-packages\\pandas\\core\\series.py\u001b[0m in \u001b[0;36munstack\u001b[1;34m(self, level, fill_value)\u001b[0m\n\u001b[0;32m   3827\u001b[0m         \u001b[1;32mfrom\u001b[0m \u001b[0mpandas\u001b[0m\u001b[1;33m.\u001b[0m\u001b[0mcore\u001b[0m\u001b[1;33m.\u001b[0m\u001b[0mreshape\u001b[0m\u001b[1;33m.\u001b[0m\u001b[0mreshape\u001b[0m \u001b[1;32mimport\u001b[0m \u001b[0munstack\u001b[0m\u001b[1;33m\u001b[0m\u001b[1;33m\u001b[0m\u001b[0m\n\u001b[0;32m   3828\u001b[0m \u001b[1;33m\u001b[0m\u001b[0m\n\u001b[1;32m-> 3829\u001b[1;33m         \u001b[1;32mreturn\u001b[0m \u001b[0munstack\u001b[0m\u001b[1;33m(\u001b[0m\u001b[0mself\u001b[0m\u001b[1;33m,\u001b[0m \u001b[0mlevel\u001b[0m\u001b[1;33m,\u001b[0m \u001b[0mfill_value\u001b[0m\u001b[1;33m)\u001b[0m\u001b[1;33m\u001b[0m\u001b[1;33m\u001b[0m\u001b[0m\n\u001b[0m\u001b[0;32m   3830\u001b[0m \u001b[1;33m\u001b[0m\u001b[0m\n\u001b[0;32m   3831\u001b[0m     \u001b[1;31m# ----------------------------------------------------------------------\u001b[0m\u001b[1;33m\u001b[0m\u001b[1;33m\u001b[0m\u001b[1;33m\u001b[0m\u001b[0m\n",
      "\u001b[1;32m~\\anaconda3\\lib\\site-packages\\pandas\\core\\reshape\\reshape.py\u001b[0m in \u001b[0;36munstack\u001b[1;34m(obj, level, fill_value)\u001b[0m\n\u001b[0;32m    428\u001b[0m         \u001b[1;32mif\u001b[0m \u001b[0mis_extension_array_dtype\u001b[0m\u001b[1;33m(\u001b[0m\u001b[0mobj\u001b[0m\u001b[1;33m.\u001b[0m\u001b[0mdtype\u001b[0m\u001b[1;33m)\u001b[0m\u001b[1;33m:\u001b[0m\u001b[1;33m\u001b[0m\u001b[1;33m\u001b[0m\u001b[0m\n\u001b[0;32m    429\u001b[0m             \u001b[1;32mreturn\u001b[0m \u001b[0m_unstack_extension_series\u001b[0m\u001b[1;33m(\u001b[0m\u001b[0mobj\u001b[0m\u001b[1;33m,\u001b[0m \u001b[0mlevel\u001b[0m\u001b[1;33m,\u001b[0m \u001b[0mfill_value\u001b[0m\u001b[1;33m)\u001b[0m\u001b[1;33m\u001b[0m\u001b[1;33m\u001b[0m\u001b[0m\n\u001b[1;32m--> 430\u001b[1;33m         unstacker = _Unstacker(\n\u001b[0m\u001b[0;32m    431\u001b[0m             \u001b[0mobj\u001b[0m\u001b[1;33m.\u001b[0m\u001b[0mindex\u001b[0m\u001b[1;33m,\u001b[0m \u001b[0mlevel\u001b[0m\u001b[1;33m=\u001b[0m\u001b[0mlevel\u001b[0m\u001b[1;33m,\u001b[0m \u001b[0mconstructor\u001b[0m\u001b[1;33m=\u001b[0m\u001b[0mobj\u001b[0m\u001b[1;33m.\u001b[0m\u001b[0m_constructor_expanddim\u001b[0m\u001b[1;33m\u001b[0m\u001b[1;33m\u001b[0m\u001b[0m\n\u001b[0;32m    432\u001b[0m         )\n",
      "\u001b[1;32m~\\anaconda3\\lib\\site-packages\\pandas\\core\\reshape\\reshape.py\u001b[0m in \u001b[0;36m__init__\u001b[1;34m(self, index, level, constructor)\u001b[0m\n\u001b[0;32m    116\u001b[0m             \u001b[1;32mraise\u001b[0m \u001b[0mValueError\u001b[0m\u001b[1;33m(\u001b[0m\u001b[1;34m\"Unstacked DataFrame is too big, causing int32 overflow\"\u001b[0m\u001b[1;33m)\u001b[0m\u001b[1;33m\u001b[0m\u001b[1;33m\u001b[0m\u001b[0m\n\u001b[0;32m    117\u001b[0m \u001b[1;33m\u001b[0m\u001b[0m\n\u001b[1;32m--> 118\u001b[1;33m         \u001b[0mself\u001b[0m\u001b[1;33m.\u001b[0m\u001b[0m_make_selectors\u001b[0m\u001b[1;33m(\u001b[0m\u001b[1;33m)\u001b[0m\u001b[1;33m\u001b[0m\u001b[1;33m\u001b[0m\u001b[0m\n\u001b[0m\u001b[0;32m    119\u001b[0m \u001b[1;33m\u001b[0m\u001b[0m\n\u001b[0;32m    120\u001b[0m     \u001b[1;33m@\u001b[0m\u001b[0mcache_readonly\u001b[0m\u001b[1;33m\u001b[0m\u001b[1;33m\u001b[0m\u001b[0m\n",
      "\u001b[1;32m~\\anaconda3\\lib\\site-packages\\pandas\\core\\reshape\\reshape.py\u001b[0m in \u001b[0;36m_make_selectors\u001b[1;34m(self)\u001b[0m\n\u001b[0;32m    165\u001b[0m \u001b[1;33m\u001b[0m\u001b[0m\n\u001b[0;32m    166\u001b[0m         \u001b[1;32mif\u001b[0m \u001b[0mmask\u001b[0m\u001b[1;33m.\u001b[0m\u001b[0msum\u001b[0m\u001b[1;33m(\u001b[0m\u001b[1;33m)\u001b[0m \u001b[1;33m<\u001b[0m \u001b[0mlen\u001b[0m\u001b[1;33m(\u001b[0m\u001b[0mself\u001b[0m\u001b[1;33m.\u001b[0m\u001b[0mindex\u001b[0m\u001b[1;33m)\u001b[0m\u001b[1;33m:\u001b[0m\u001b[1;33m\u001b[0m\u001b[1;33m\u001b[0m\u001b[0m\n\u001b[1;32m--> 167\u001b[1;33m             \u001b[1;32mraise\u001b[0m \u001b[0mValueError\u001b[0m\u001b[1;33m(\u001b[0m\u001b[1;34m\"Index contains duplicate entries, cannot reshape\"\u001b[0m\u001b[1;33m)\u001b[0m\u001b[1;33m\u001b[0m\u001b[1;33m\u001b[0m\u001b[0m\n\u001b[0m\u001b[0;32m    168\u001b[0m \u001b[1;33m\u001b[0m\u001b[0m\n\u001b[0;32m    169\u001b[0m         \u001b[0mself\u001b[0m\u001b[1;33m.\u001b[0m\u001b[0mgroup_index\u001b[0m \u001b[1;33m=\u001b[0m \u001b[0mcomp_index\u001b[0m\u001b[1;33m\u001b[0m\u001b[1;33m\u001b[0m\u001b[0m\n",
      "\u001b[1;31mValueError\u001b[0m: Index contains duplicate entries, cannot reshape"
     ]
    }
   ],
   "source": [
    "df2 = df.pivot(index='ID',columns='event',values='freeze percent')"
   ]
  },
  {
   "cell_type": "code",
   "execution_count": null,
   "id": "affected-caribbean",
   "metadata": {},
   "outputs": [],
   "source": [
    "df2 = df.pivot"
   ]
  },
  {
   "cell_type": "code",
   "execution_count": 21,
   "id": "opening-patrick",
   "metadata": {},
   "outputs": [],
   "source": [
    "sns.lineplot?"
   ]
  },
  {
   "cell_type": "code",
   "execution_count": null,
   "id": "commercial-dallas",
   "metadata": {},
   "outputs": [],
   "source": [
    "sns.lineplot()"
   ]
  },
  {
   "cell_type": "markdown",
   "id": "postal-mercy",
   "metadata": {},
   "source": [
    "rename columns"
   ]
  },
  {
   "cell_type": "code",
   "execution_count": null,
   "id": "composed-relaxation",
   "metadata": {},
   "outputs": [],
   "source": [
    "colnames = ['id','condition','day','event','event-freeze', 'total-freeze', 'nontone-freeze']\n",
    "#df_all.columns = colnames\n",
    "df_avg.columns = colnames\n",
    "df_avg"
   ]
  },
  {
   "cell_type": "markdown",
   "id": "stretch-dress",
   "metadata": {},
   "source": [
    "seperate data into two matrices:  one for total freezing and nontone freezing, the other for events"
   ]
  },
  {
   "cell_type": "code",
   "execution_count": null,
   "id": "invisible-dylan",
   "metadata": {},
   "outputs": [],
   "source": [
    "#df_avg_event = df_avg[['id','condition','day','total-freeze','nontone-freeze']]\n",
    "#df_avg_event\n",
    "#df_avg_event.to_csv(r\"C:\\Users\\Zach\\Documents\\Python Scripts\\Work\\datasets\\TeA inhibition\\updated\\summary_freezing_avg_total.csv\")"
   ]
  },
  {
   "cell_type": "code",
   "execution_count": null,
   "id": "aging-smoke",
   "metadata": {},
   "outputs": [],
   "source": [
    "df_avg_cs = df_avg[['id','condition','day','event','event-freeze']]\n",
    "df_avg_cs"
   ]
  },
  {
   "cell_type": "markdown",
   "id": "spare-elephant",
   "metadata": {},
   "source": [
    "visualize data"
   ]
  },
  {
   "cell_type": "code",
   "execution_count": null,
   "id": "hybrid-proposal",
   "metadata": {},
   "outputs": [],
   "source": [
    "#ax = sns.swarmplot(data=df_avg, x='event', y='event-freeze', hue='condition', size=10)            \n",
    "#ax.set_title('Same context, interleaved laser, light CS-, 2wk recall')\n",
    "#ax.legend(loc='upper right', bbox_to_anchor=(1.3, 1))\n"
   ]
  },
  {
   "cell_type": "code",
   "execution_count": null,
   "id": "stuck-vatican",
   "metadata": {},
   "outputs": [],
   "source": [
    "#ax2 = sns.lineplot(data=df_avg, x='event', y='event-freeze', hue='id',marker='o', style='condition')\n",
    "#ax2.set_title('Same context, interleaved laser, light CS-, 2wk recall')\n",
    "#ax2.legend(loc='upper right', bbox_to_anchor=(1.5, 1))\n"
   ]
  },
  {
   "cell_type": "markdown",
   "id": "waiting-affiliation",
   "metadata": {},
   "source": [
    "visualize with connected line plot showing each animal, pivoting the dataframe to do so"
   ]
  },
  {
   "cell_type": "markdown",
   "id": "recovered-steam",
   "metadata": {},
   "source": [
    "use pivot_table to reorganize data to animals as rows, conditions as columns, then calculate change in freezing behavior between conditions"
   ]
  },
  {
   "cell_type": "code",
   "execution_count": null,
   "id": "upset-welding",
   "metadata": {},
   "outputs": [],
   "source": [
    "df_avg_pivot = df_avg_cs.pivot_table(index=['id','condition','day'], columns='event', values=['event-freeze'])\n",
    "#df_avg_pivot = df_avg_pivot.reset_index()\n",
    "df_avg_pivot.tail()"
   ]
  },
  {
   "cell_type": "code",
   "execution_count": null,
   "id": "unable-peoples",
   "metadata": {},
   "outputs": [],
   "source": [
    "# for CS+ laser effect\n",
    "delta_freeze = df_avg_pivot['event-freeze']['csp_laser']-df_avg_pivot['event-freeze']['csp']\n",
    "df_avg_pivot['delta_freeze_csp'] = delta_freeze\n",
    "\n",
    "# for CS- laser effect\n",
    "d_freeze_csm = df_avg_pivot['event-freeze']['csm_laser']-df_avg_pivot['event-freeze']['csm']\n",
    "df_avg_pivot['delta_freeze_csm'] = d_freeze_csm"
   ]
  },
  {
   "cell_type": "code",
   "execution_count": null,
   "id": "affiliated-croatia",
   "metadata": {},
   "outputs": [],
   "source": [
    "df_avg_pivot2 = df_avg_pivot.reset_index()"
   ]
  },
  {
   "cell_type": "code",
   "execution_count": null,
   "id": "electrical-spray",
   "metadata": {},
   "outputs": [],
   "source": [
    "df_avg_pivot2.to_csv(r\"C:\\Users\\Zach\\Documents\\Python Scripts\\Work\\datasets\\TeA inhibition\\updated\\summary_freezing_avg_pivot_20210604.csv\")"
   ]
  },
  {
   "cell_type": "markdown",
   "id": "western-block",
   "metadata": {},
   "source": [
    "now go into excel, correct the headings on the table, and load again"
   ]
  },
  {
   "cell_type": "code",
   "execution_count": null,
   "id": "improving-reserve",
   "metadata": {},
   "outputs": [],
   "source": [
    "df = pd.read_csv(r\"C:\\Users\\Zach\\Documents\\Python Scripts\\Work\\datasets\\TeA inhibition\\updated\\summary_freezing_avg_pivot_20210604.csv\")\n",
    "df"
   ]
  },
  {
   "cell_type": "code",
   "execution_count": null,
   "id": "nervous-bahrain",
   "metadata": {},
   "outputs": [],
   "source": [
    "ax3 = sns.swarmplot(data=df, x='condition', y='delta_freeze_csp', size=10, hue='day')\n",
    "ax3.set_title('change in freezing:  CS+ without laser - CS+ with laser')\n",
    "ax3.set_ylabel('delta freezing CS+ laser on vs CS+ laser off')\n"
   ]
  },
  {
   "cell_type": "code",
   "execution_count": null,
   "id": "separate-history",
   "metadata": {},
   "outputs": [],
   "source": [
    "ax4 = sns.swarmplot(data=df, x='condition', y='delta_freeze_csm', size=10, hue='day')\n",
    "ax4.set_title('change in freezing:  CS- without laser - CS- with laser')\n",
    "ax4.set_ylabel('delta freezing CS- laser on vs CS- laser off')\n"
   ]
  },
  {
   "cell_type": "code",
   "execution_count": null,
   "id": "vietnamese-information",
   "metadata": {},
   "outputs": [],
   "source": [
    "d0_freeze = df_avg_event[df_avg_event[\"day\"]==0]\n",
    "d0_freeze = d0_freeze.iloc[::3,:]"
   ]
  },
  {
   "cell_type": "code",
   "execution_count": null,
   "id": "valid-framing",
   "metadata": {},
   "outputs": [],
   "source": [
    "d0_freeze"
   ]
  },
  {
   "cell_type": "code",
   "execution_count": null,
   "id": "working-manchester",
   "metadata": {},
   "outputs": [],
   "source": [
    "d0_fig = sns.swarmplot(data=d0_freeze, x='condition', y='total-freeze', size=10)\n",
    "\n",
    "d0_fig.set_title('Total freezing on Day 0 (learning)')\n",
    "d0_fig.set_ylabel('Portion time freezing')\n",
    "d0_fig.set(ylim=(0,0.6))"
   ]
  },
  {
   "cell_type": "code",
   "execution_count": null,
   "id": "thirty-clarity",
   "metadata": {},
   "outputs": [],
   "source": [
    "d1_freeze = df_avg_pivot2.loc[df_avg_pivot2['day']==1]\n",
    "d1_freeze"
   ]
  },
  {
   "cell_type": "code",
   "execution_count": null,
   "id": "automated-accused",
   "metadata": {},
   "outputs": [],
   "source": [
    "d1_csm = d1_freeze[d1_freeze.columns[1:5]]\n",
    "d1_csm_plt = sns.lineplot(data=d1_csm, x='event', y='event-freeze', hue='condition')"
   ]
  },
  {
   "cell_type": "code",
   "execution_count": null,
   "id": "smaller-illinois",
   "metadata": {},
   "outputs": [],
   "source": [
    "df_avg"
   ]
  },
  {
   "cell_type": "code",
   "execution_count": null,
   "id": "regional-ghost",
   "metadata": {},
   "outputs": [],
   "source": [
    "d1_freeze = df_avg[['id','condition','event','event-freeze', 'day']]\n",
    "d1_freeze = d1_freeze[d1_freeze['day']==1]\n",
    "d1_freeze.head()"
   ]
  },
  {
   "cell_type": "code",
   "execution_count": null,
   "id": "liberal-singapore",
   "metadata": {},
   "outputs": [],
   "source": [
    "d1_freeze_csm = d1_freeze[ (d1_freeze['event'] == 'csm') | (d1_freeze['event'] == 'csm_laser')]\n",
    "d1_freeze_csm"
   ]
  },
  {
   "cell_type": "code",
   "execution_count": null,
   "id": "lucky-reproduction",
   "metadata": {},
   "outputs": [],
   "source": [
    "d1_freeze_csm_plt = sns.lineplot(data=d1_freeze_csm, x='event', y='event-freeze', style='condition', hue='id', marker='o')\n",
    "\n",
    "#ax2 = sns.lineplot(data=df_avg_pivot2[['day'] == 1], x='event', y='event-freeze', hue='id',marker='o', style='condition')           \n",
    "#ax2.set_title('Same context, interleaved laser, light CS-, 2wk recall')\n",
    "#ax2.legend(loc='upper right', bbox_to_anchor=(1.5, 1))"
   ]
  },
  {
   "cell_type": "code",
   "execution_count": null,
   "id": "south-validity",
   "metadata": {},
   "outputs": [],
   "source": []
  }
 ],
 "metadata": {
  "kernelspec": {
   "display_name": "Python 3",
   "language": "python",
   "name": "python3"
  },
  "language_info": {
   "codemirror_mode": {
    "name": "ipython",
    "version": 3
   },
   "file_extension": ".py",
   "mimetype": "text/x-python",
   "name": "python",
   "nbconvert_exporter": "python",
   "pygments_lexer": "ipython3",
   "version": "3.8.3"
  },
  "toc-autonumbering": false,
  "toc-showcode": true,
  "toc-showmarkdowntxt": true,
  "varInspector": {
   "cols": {
    "lenName": 16,
    "lenType": 16,
    "lenVar": 40
   },
   "kernels_config": {
    "python": {
     "delete_cmd_postfix": "",
     "delete_cmd_prefix": "del ",
     "library": "var_list.py",
     "varRefreshCmd": "print(var_dic_list())"
    },
    "r": {
     "delete_cmd_postfix": ") ",
     "delete_cmd_prefix": "rm(",
     "library": "var_list.r",
     "varRefreshCmd": "cat(var_dic_list()) "
    }
   },
   "types_to_exclude": [
    "module",
    "function",
    "builtin_function_or_method",
    "instance",
    "_Feature"
   ],
   "window_display": false
  }
 },
 "nbformat": 4,
 "nbformat_minor": 5
}
