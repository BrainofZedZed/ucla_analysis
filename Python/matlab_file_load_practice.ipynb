{
 "cells": [
  {
   "cell_type": "code",
   "execution_count": 1,
   "metadata": {},
   "outputs": [
    {
     "name": "stdout",
     "output_type": "stream",
     "text": [
      "Struct names:\n"
     ]
    }
   ],
   "source": [
    "import scipy.io\n",
    "from scipy.io.matlab import mat_struct\n",
    "\n",
    "def get_struct_names(item, struct_names, current_path):\n",
    "    if isinstance(item, mat_struct):\n",
    "        struct_names.append(current_path)\n",
    "        field_names = item._fieldnames\n",
    "        for field_name in field_names:\n",
    "            field_item = item[field_name][0, 0]\n",
    "            get_struct_names(field_item, struct_names, f\"{current_path}.{field_name}\")\n",
    "\n",
    "file_path = r\"C:\\Users\\Zach\\Box\\Zach_repo\\Projects\\DA PMA\\fiber photometry\\GRABDA PMA REWARD\\batch\\D1\\DP060_D1\\DP060_D1_analyzed\\Behavior.mat\"\n",
    "matlab_data = scipy.io.loadmat(file_path)\n",
    "\n",
    "struct_names = []\n",
    "\n",
    "# List top-level keys (excluding metadata keys)\n",
    "top_level_keys = [key for key in matlab_data.keys() if not key.startswith('__')]\n",
    "\n",
    "# Recursively check each level of the keys and save struct names\n",
    "for key in top_level_keys:\n",
    "    item = matlab_data[key]\n",
    "    get_struct_names(item, struct_names, key)\n",
    "\n",
    "# Print struct names\n",
    "print(\"Struct names:\")\n",
    "for struct_name in struct_names:\n",
    "    print(f\"  {struct_name}\")\n",
    "\n"
   ]
  },
  {
   "cell_type": "code",
   "execution_count": 6,
   "metadata": {},
   "outputs": [
    {
     "ename": "AttributeError",
     "evalue": "'numpy.ndarray' object has no attribute 'keys'",
     "output_type": "error",
     "traceback": [
      "\u001b[1;31m---------------------------------------------------------------------------\u001b[0m",
      "\u001b[1;31mAttributeError\u001b[0m                            Traceback (most recent call last)",
      "Cell \u001b[1;32mIn[6], line 2\u001b[0m\n\u001b[0;32m      1\u001b[0m Beh \u001b[39m=\u001b[39m matlab_data[\u001b[39m'\u001b[39m\u001b[39mBehavior\u001b[39m\u001b[39m'\u001b[39m]\n\u001b[1;32m----> 2\u001b[0m Beh\u001b[39m.\u001b[39;49mkeys()\n",
      "\u001b[1;31mAttributeError\u001b[0m: 'numpy.ndarray' object has no attribute 'keys'"
     ]
    }
   ],
   "source": [
    "Beh = matlab_data['Behavior']\n",
    "Beh.keys()"
   ]
  },
  {
   "cell_type": "code",
   "execution_count": null,
   "metadata": {},
   "outputs": [],
   "source": []
  }
 ],
 "metadata": {
  "kernelspec": {
   "display_name": "base",
   "language": "python",
   "name": "python3"
  },
  "language_info": {
   "codemirror_mode": {
    "name": "ipython",
    "version": 3
   },
   "file_extension": ".py",
   "mimetype": "text/x-python",
   "name": "python",
   "nbconvert_exporter": "python",
   "pygments_lexer": "ipython3",
   "version": "3.9.12"
  },
  "orig_nbformat": 4
 },
 "nbformat": 4,
 "nbformat_minor": 2
}
